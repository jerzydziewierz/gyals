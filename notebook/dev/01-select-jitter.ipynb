{
 "cells": [
  {
   "cell_type": "code",
   "execution_count": null,
   "id": "4f19f5bf",
   "metadata": {},
   "outputs": [
    {
     "name": "stderr",
     "output_type": "stream",
     "text": [
      "2023-03-24 16:43:31.014205: I tensorflow/core/platform/cpu_feature_guard.cc:193] This TensorFlow binary is optimized with oneAPI Deep Neural Network Library (oneDNN) to use the following CPU instructions in performance-critical operations:  AVX2 FMA\n",
      "To enable them in other operations, rebuild TensorFlow with the appropriate compiler flags.\n",
      "2023-03-24 16:43:31.932952: W tensorflow/compiler/xla/stream_executor/platform/default/dso_loader.cc:64] Could not load dynamic library 'libnvinfer.so.7'; dlerror: libnvinfer.so.7: cannot open shared object file: No such file or directory\n",
      "2023-03-24 16:43:31.933001: W tensorflow/compiler/xla/stream_executor/platform/default/dso_loader.cc:64] Could not load dynamic library 'libnvinfer_plugin.so.7'; dlerror: libnvinfer_plugin.so.7: cannot open shared object file: No such file or directory\n",
      "2023-03-24 16:43:31.933005: W tensorflow/compiler/tf2tensorrt/utils/py_utils.cc:38] TF-TRT Warning: Cannot dlopen some TensorRT libraries. If you would like to use Nvidia GPU with TensorRT, please make sure the missing libraries mentioned above are installed properly.\n",
      "root | Limited tf.compat.v2.summary API due to missing TensorBoard installation.\n",
      "root | Limited tf.compat.v2.summary API due to missing TensorBoard installation.\n",
      "root | Limited tf.compat.v2.summary API due to missing TensorBoard installation.\n",
      "root | Limited tf.summary API due to missing TensorBoard installation.\n",
      "root | Limited tf.compat.v2.summary API due to missing TensorBoard installation.\n",
      "root | Limited tf.compat.v2.summary API due to missing TensorBoard installation.\n",
      "root | Limited tf.compat.v2.summary API due to missing TensorBoard installation.\n",
      "notebookinit| folder_project_root=/home/mib07150/git/zfs/git/STL/george-yals/notebook\n",
      "Path now nnlog print_watermark make_log  run_with_shell add_path px_show px_describe px_axis_equal warn mict numpy plotly px go pandas json pint pydantic retry jax, chevron, tqdm time tau nan inf pi \n",
      "Have a productive day!\n"
     ]
    }
   ],
   "source": [
    "from notebookinit import *"
   ]
  },
  {
   "cell_type": "code",
   "execution_count": null,
   "id": "286f3c5e",
   "metadata": {},
   "outputs": [],
   "source": []
  },
  {
   "cell_type": "code",
   "execution_count": null,
   "id": "5a1a2438",
   "metadata": {},
   "outputs": [
    {
     "name": "stdout",
     "output_type": "stream",
     "text": [
      "/home/mib07150/git/remote-fs/buildserver/storage3/george-yals/data/perf\n"
     ]
    },
    {
     "data": {
      "text/plain": [
       "['/home/mib07150/git/remote-fs/buildserver/storage3/george-yals/data/perf/2023-03-24T16:25:14.619124.sqlite',\n",
       " '/home/mib07150/git/remote-fs/buildserver/storage3/george-yals/data/perf/2023-03-24T15:55:11.302440.sqlite',\n",
       " '/home/mib07150/git/remote-fs/buildserver/storage3/george-yals/data/perf/2023-03-24T16:39:16.158973.sqlite',\n",
       " '/home/mib07150/git/remote-fs/buildserver/storage3/george-yals/data/perf/2023-03-24T16:40:16.285047.sqlite',\n",
       " '/home/mib07150/git/remote-fs/buildserver/storage3/george-yals/data/perf/2023-03-24T16:30:15.185139.sqlite',\n",
       " '/home/mib07150/git/remote-fs/buildserver/storage3/george-yals/data/perf/2023-03-24T15:51:10.877293.sqlite',\n",
       " '/home/mib07150/git/remote-fs/buildserver/storage3/george-yals/data/perf/2023-03-24T16:34:15.618114.sqlite',\n",
       " '/home/mib07150/git/remote-fs/buildserver/storage3/george-yals/data/perf/2023-03-24T16:38:16.048667.sqlite',\n",
       " '/home/mib07150/git/remote-fs/buildserver/storage3/george-yals/data/perf/2023-03-24T16:06:12.522590.sqlite',\n",
       " '/home/mib07150/git/remote-fs/buildserver/storage3/george-yals/data/perf/2023-03-24T16:35:15.710760.sqlite',\n",
       " '/home/mib07150/git/remote-fs/buildserver/storage3/george-yals/data/perf/2023-03-24T15:36:08.732518.sqlite',\n",
       " '/home/mib07150/git/remote-fs/buildserver/storage3/george-yals/data/perf/2023-03-24T16:28:14.960919.sqlite',\n",
       " '/home/mib07150/git/remote-fs/buildserver/storage3/george-yals/data/perf/2023-03-24T15:31:08.106510.sqlite',\n",
       " '/home/mib07150/git/remote-fs/buildserver/storage3/george-yals/data/perf/2023-03-24T15:30:07.988901.sqlite',\n",
       " '/home/mib07150/git/remote-fs/buildserver/storage3/george-yals/data/perf/2023-03-24T16:27:14.822421.sqlite',\n",
       " '/home/mib07150/git/remote-fs/buildserver/storage3/george-yals/data/perf/2023-03-24T15:47:10.428475.sqlite',\n",
       " '/home/mib07150/git/remote-fs/buildserver/storage3/george-yals/data/perf/2023-03-24T16:05:12.400940.sqlite',\n",
       " '/home/mib07150/git/remote-fs/buildserver/storage3/george-yals/data/perf/2023-03-24T16:07:12.627524.sqlite',\n",
       " '/home/mib07150/git/remote-fs/buildserver/storage3/george-yals/data/perf/2023-03-24T15:56:11.406727.sqlite',\n",
       " '/home/mib07150/git/remote-fs/buildserver/storage3/george-yals/data/perf/2023-03-24T15:57:11.517426.sqlite',\n",
       " '/home/mib07150/git/remote-fs/buildserver/storage3/george-yals/data/perf/2023-03-24T15:53:11.089069.sqlite',\n",
       " '/home/mib07150/git/remote-fs/buildserver/storage3/george-yals/data/perf/2023-03-24T15:32:08.225880.sqlite',\n",
       " '/home/mib07150/git/remote-fs/buildserver/storage3/george-yals/data/perf/2023-03-24T15:41:09.383958.sqlite',\n",
       " '/home/mib07150/git/remote-fs/buildserver/storage3/george-yals/data/perf/2023-03-24T16:12:13.163711.sqlite',\n",
       " '/home/mib07150/git/remote-fs/buildserver/storage3/george-yals/data/perf/2023-03-24T16:14:13.366905.sqlite',\n",
       " '/home/mib07150/git/remote-fs/buildserver/storage3/george-yals/data/perf/2023-03-24T16:41:16.403529.sqlite',\n",
       " '/home/mib07150/git/remote-fs/buildserver/storage3/george-yals/data/perf/2023-03-24T16:09:12.834331.sqlite',\n",
       " '/home/mib07150/git/remote-fs/buildserver/storage3/george-yals/data/perf/2023-03-24T16:16:13.572430.sqlite',\n",
       " '/home/mib07150/git/remote-fs/buildserver/storage3/george-yals/data/perf/2023-03-24T15:52:10.977425.sqlite',\n",
       " '/home/mib07150/git/remote-fs/buildserver/storage3/george-yals/data/perf/2023-03-24T15:58:11.626660.sqlite',\n",
       " '/home/mib07150/git/remote-fs/buildserver/storage3/george-yals/data/perf/2023-03-24T16:33:15.518465.sqlite',\n",
       " '/home/mib07150/git/remote-fs/buildserver/storage3/george-yals/data/perf/2023-03-24T16:11:13.054525.sqlite',\n",
       " '/home/mib07150/git/remote-fs/buildserver/storage3/george-yals/data/perf/2023-03-24T16:42:16.511397.sqlite',\n",
       " '/home/mib07150/git/remote-fs/buildserver/storage3/george-yals/data/perf/2023-03-24T15:49:10.650835.sqlite',\n",
       " '/home/mib07150/git/remote-fs/buildserver/storage3/george-yals/data/perf/2023-03-24T16:13:13.274770.sqlite',\n",
       " '/home/mib07150/git/remote-fs/buildserver/storage3/george-yals/data/perf/2023-03-24T16:01:11.969850.sqlite',\n",
       " '/home/mib07150/git/remote-fs/buildserver/storage3/george-yals/data/perf/2023-03-24T15:43:09.635837.sqlite',\n",
       " '/home/mib07150/git/remote-fs/buildserver/storage3/george-yals/data/perf/2023-03-24T16:17:13.679039.sqlite',\n",
       " '/home/mib07150/git/remote-fs/buildserver/storage3/george-yals/data/perf/2023-03-24T15:48:10.568971.sqlite',\n",
       " '/home/mib07150/git/remote-fs/buildserver/storage3/george-yals/data/perf/2023-03-24T15:54:11.192837.sqlite',\n",
       " '/home/mib07150/git/remote-fs/buildserver/storage3/george-yals/data/perf/2023-03-24T16:22:14.310273.sqlite',\n",
       " '/home/mib07150/git/remote-fs/buildserver/storage3/george-yals/data/perf/2023-03-24T15:35:08.609717.sqlite',\n",
       " '/home/mib07150/git/remote-fs/buildserver/storage3/george-yals/data/perf/2023-03-24T15:33:08.339118.sqlite',\n",
       " '/home/mib07150/git/remote-fs/buildserver/storage3/george-yals/data/perf/2023-03-24T16:04:12.300595.sqlite',\n",
       " '/home/mib07150/git/remote-fs/buildserver/storage3/george-yals/data/perf/2023-03-24T15:42:09.498372.sqlite',\n",
       " '/home/mib07150/git/remote-fs/buildserver/storage3/george-yals/data/perf/2023-03-24T16:43:16.622658.sqlite',\n",
       " '/home/mib07150/git/remote-fs/buildserver/storage3/george-yals/data/perf/2023-03-24T15:29:07.759584.sqlite',\n",
       " '/home/mib07150/git/remote-fs/buildserver/storage3/george-yals/data/perf/2023-03-24T15:46:10.218296.sqlite',\n",
       " '/home/mib07150/git/remote-fs/buildserver/storage3/george-yals/data/perf/2023-03-24T16:26:14.723073.sqlite',\n",
       " '/home/mib07150/git/remote-fs/buildserver/storage3/george-yals/data/perf/2023-03-24T16:08:12.721155.sqlite',\n",
       " '/home/mib07150/git/remote-fs/buildserver/storage3/george-yals/data/perf/2023-03-24T16:20:14.080517.sqlite',\n",
       " '/home/mib07150/git/remote-fs/buildserver/storage3/george-yals/data/perf/2023-03-24T16:24:14.526710.sqlite',\n",
       " '/home/mib07150/git/remote-fs/buildserver/storage3/george-yals/data/perf/2023-03-24T15:34:08.488391.sqlite',\n",
       " '/home/mib07150/git/remote-fs/buildserver/storage3/george-yals/data/perf/2023-03-24T16:37:15.929295.sqlite',\n",
       " '/home/mib07150/git/remote-fs/buildserver/storage3/george-yals/data/perf/2023-03-24T15:44:09.759482.sqlite',\n",
       " '/home/mib07150/git/remote-fs/buildserver/storage3/george-yals/data/perf/2023-03-24T15:38:08.991092.sqlite',\n",
       " '/home/mib07150/git/remote-fs/buildserver/storage3/george-yals/data/perf/2023-03-24T16:02:12.095227.sqlite',\n",
       " '/home/mib07150/git/remote-fs/buildserver/storage3/george-yals/data/perf/2023-03-24T15:37:08.858551.sqlite',\n",
       " '/home/mib07150/git/remote-fs/buildserver/storage3/george-yals/data/perf/2023-03-24T16:19:13.960570.sqlite',\n",
       " '/home/mib07150/git/remote-fs/buildserver/storage3/george-yals/data/perf/2023-03-24T16:32:15.414157.sqlite',\n",
       " '/home/mib07150/git/remote-fs/buildserver/storage3/george-yals/data/perf/2023-03-24T16:29:15.074188.sqlite',\n",
       " '/home/mib07150/git/remote-fs/buildserver/storage3/george-yals/data/perf/2023-03-24T15:40:09.272767.sqlite',\n",
       " '/home/mib07150/git/remote-fs/buildserver/storage3/george-yals/data/perf/2023-03-24T16:15:13.476150.sqlite',\n",
       " '/home/mib07150/git/remote-fs/buildserver/storage3/george-yals/data/perf/2023-03-24T16:10:12.938391.sqlite',\n",
       " '/home/mib07150/git/remote-fs/buildserver/storage3/george-yals/data/perf/2023-03-24T15:45:09.863916.sqlite',\n",
       " '/home/mib07150/git/remote-fs/buildserver/storage3/george-yals/data/perf/2023-03-24T15:59:11.748491.sqlite',\n",
       " '/home/mib07150/git/remote-fs/buildserver/storage3/george-yals/data/perf/2023-03-24T16:21:14.201957.sqlite',\n",
       " '/home/mib07150/git/remote-fs/buildserver/storage3/george-yals/data/perf/2023-03-24T15:39:09.149030.sqlite',\n",
       " '/home/mib07150/git/remote-fs/buildserver/storage3/george-yals/data/perf/2023-03-24T16:36:15.816775.sqlite',\n",
       " '/home/mib07150/git/remote-fs/buildserver/storage3/george-yals/data/perf/2023-03-24T15:50:10.764293.sqlite',\n",
       " '/home/mib07150/git/remote-fs/buildserver/storage3/george-yals/data/perf/2023-03-24T16:03:12.204955.sqlite',\n",
       " '/home/mib07150/git/remote-fs/buildserver/storage3/george-yals/data/perf/2023-03-24T16:00:11.858103.sqlite',\n",
       " '/home/mib07150/git/remote-fs/buildserver/storage3/george-yals/data/perf/2023-03-24T16:18:13.851031.sqlite',\n",
       " '/home/mib07150/git/remote-fs/buildserver/storage3/george-yals/data/perf/2023-03-24T16:23:14.413403.sqlite',\n",
       " '/home/mib07150/git/remote-fs/buildserver/storage3/george-yals/data/perf/2023-03-24T16:31:15.306271.sqlite']"
      ]
     },
     "execution_count": null,
     "metadata": {},
     "output_type": "execute_result"
    }
   ],
   "source": [
    "# this_pwd = os.getcwd()\n",
    "# target_folder = os.path.abspath(os.path.join(os.getcwd(), '..', '..', 'data', 'model-A-all'))\n",
    "target_folder = \"/home/mib07150/git/remote-fs/buildserver/storage3/george-yals/data/perf\"\n",
    "print(target_folder)\n",
    "import glob\n",
    "db_files = glob.glob(f'{target_folder}/*.sqlite')\n",
    "# db_files"
   ]
  },
  {
   "cell_type": "code",
   "execution_count": null,
   "id": "b80eb60c",
   "metadata": {},
   "outputs": [
    {
     "data": {
      "application/vnd.jupyter.widget-view+json": {
       "model_id": "52eee5481c62417b91696d51d617186f",
       "version_major": 2,
       "version_minor": 0
      },
      "text/plain": [
       "  0%|          | 0/75 [00:00<?, ?it/s]"
      ]
     },
     "metadata": {},
     "output_type": "display_data"
    }
   ],
   "source": [
    "import sqlite3\n",
    "result=[]\n",
    "for db_file in tqdm(db_files):\n",
    "    try:\n",
    "        db_connection = sqlite3.connect(db_file)\n",
    "        db_cursor = db_connection.cursor()\n",
    "        db_cursor.execute('''\n",
    "        select \n",
    "            json_extract(payload, \"$.data.elapsed_nanoseconds\") as elapsed,\n",
    "            json_extract(payload, \"$.time\") as t\n",
    "        --    *\n",
    "        from data\n",
    "        where topic = \"CH4/performance\"\n",
    "        '''\n",
    "                         )\n",
    "        q = db_cursor.fetchall()\n",
    "        result.extend(q)\n",
    "    except:\n",
    "        print(f'fail on {db_file}')"
   ]
  },
  {
   "cell_type": "code",
   "execution_count": null,
   "id": "7d7e172e",
   "metadata": {},
   "outputs": [
    {
     "data": {
      "text/plain": [
       "451151"
      ]
     },
     "execution_count": null,
     "metadata": {},
     "output_type": "execute_result"
    }
   ],
   "source": [
    "len(result)"
   ]
  },
  {
   "cell_type": "code",
   "execution_count": null,
   "id": "d7e20fcc",
   "metadata": {},
   "outputs": [],
   "source": [
    "df = pandas.DataFrame.from_records(result)\n",
    "df.columns=['processing_time', 'timestamp']"
   ]
  },
  {
   "cell_type": "code",
   "execution_count": null,
   "id": "b68547fe",
   "metadata": {},
   "outputs": [
    {
     "data": {
      "text/html": [
       "<div>\n",
       "<style scoped>\n",
       "    .dataframe tbody tr th:only-of-type {\n",
       "        vertical-align: middle;\n",
       "    }\n",
       "\n",
       "    .dataframe tbody tr th {\n",
       "        vertical-align: top;\n",
       "    }\n",
       "\n",
       "    .dataframe thead th {\n",
       "        text-align: right;\n",
       "    }\n",
       "</style>\n",
       "<table border=\"1\" class=\"dataframe\">\n",
       "  <thead>\n",
       "    <tr style=\"text-align: right;\">\n",
       "      <th></th>\n",
       "      <th>processing_time</th>\n",
       "      <th>timestamp</th>\n",
       "    </tr>\n",
       "  </thead>\n",
       "  <tbody>\n",
       "    <tr>\n",
       "      <th>451146</th>\n",
       "      <td>5769675</td>\n",
       "      <td>2023-03-24T16:32:15.315703Z</td>\n",
       "    </tr>\n",
       "    <tr>\n",
       "      <th>451147</th>\n",
       "      <td>5737995</td>\n",
       "      <td>2023-03-24T16:32:15.325637Z</td>\n",
       "    </tr>\n",
       "    <tr>\n",
       "      <th>451148</th>\n",
       "      <td>5712165</td>\n",
       "      <td>2023-03-24T16:32:15.335607Z</td>\n",
       "    </tr>\n",
       "    <tr>\n",
       "      <th>451149</th>\n",
       "      <td>5711055</td>\n",
       "      <td>2023-03-24T16:32:15.345607Z</td>\n",
       "    </tr>\n",
       "    <tr>\n",
       "      <th>451150</th>\n",
       "      <td>5712135</td>\n",
       "      <td>2023-03-24T16:32:15.355596Z</td>\n",
       "    </tr>\n",
       "  </tbody>\n",
       "</table>\n",
       "</div>"
      ],
      "text/plain": [
       "        processing_time                    timestamp\n",
       "451146          5769675  2023-03-24T16:32:15.315703Z\n",
       "451147          5737995  2023-03-24T16:32:15.325637Z\n",
       "451148          5712165  2023-03-24T16:32:15.335607Z\n",
       "451149          5711055  2023-03-24T16:32:15.345607Z\n",
       "451150          5712135  2023-03-24T16:32:15.355596Z"
      ]
     },
     "execution_count": null,
     "metadata": {},
     "output_type": "execute_result"
    }
   ],
   "source": [
    "df.tail()"
   ]
  },
  {
   "cell_type": "code",
   "execution_count": null,
   "id": "9e750124",
   "metadata": {},
   "outputs": [
    {
     "data": {
      "text/plain": [
       "451151"
      ]
     },
     "execution_count": null,
     "metadata": {},
     "output_type": "execute_result"
    }
   ],
   "source": [
    "len(df)"
   ]
  },
  {
   "cell_type": "code",
   "execution_count": null,
   "id": "4a2c07ef",
   "metadata": {},
   "outputs": [
    {
     "data": {
      "image/png": "[encoded data removed]"
     },
     "metadata": {},
     "output_type": "display_data"
    }
   ],
   "source": [
    "# histnorm=\"probability density\"\n",
    "sample_count = len(df)\n",
    "hf=px.histogram(df,x='processing_time', nbins=100, log_y=True, range_x=[0.0, 20e6])\n",
    "hf=px_describe(hf,title=f'datapoint processing time; {sample_count} samples', xlabel='processing time [ns]; 10M = limit at 100Hz', ylabel='occurence count [log scale]')\n",
    "px_show(hf)"
   ]
  },
  {
   "cell_type": "code",
   "execution_count": null,
   "id": "3385f9e8",
   "metadata": {},
   "outputs": [],
   "source": []
  },
  {
   "cell_type": "code",
   "execution_count": null,
   "id": "f6af83e5",
   "metadata": {},
   "outputs": [],
   "source": []
  },
  {
   "cell_type": "code",
   "execution_count": null,
   "id": "8a94377b",
   "metadata": {},
   "outputs": [
    {
     "name": "stdout",
     "output_type": "stream",
     "text": [
      "mode,  miliseconds     :  5.822 ms\n",
      "standard deviation     :  0.213 ms\n",
      "99.9th quantile value  :  7.128 ms\n",
      "absolute worst sample  : 15.433 ms\n"
     ]
    }
   ],
   "source": [
    "# check most typical mode\n",
    "print(f'mode,  miliseconds     :  {df.processing_time.mode().mean()/1e6:0.3f} ms')\n",
    "# check standard deviation\n",
    "print(f'standard deviation     :  {df.processing_time.std()/1e6:0.3f} ms')\n",
    "# check the 1% quantile value\n",
    "print(f'99.9th quantile value  :  {df.processing_time.quantile(0.999)/1e6:0.3f} ms')\n",
    "# check the absolute worst sample:\n",
    "print(f'absolute worst sample  : {df.processing_time.max()/1e6:0.3f} ms')"
   ]
  },
  {
   "cell_type": "code",
   "execution_count": null,
   "id": "39c5b61e",
   "metadata": {},
   "outputs": [],
   "source": []
  }
 ],
 "metadata": {
  "kernelspec": {
   "display_name": "Python 3 (ipykernel)",
   "language": "python",
   "name": "python3"
  }
 },
 "nbformat": 4,
 "nbformat_minor": 5
}
