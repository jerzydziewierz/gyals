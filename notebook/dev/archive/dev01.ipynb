{
 "cells": [
  {
   "cell_type": "code",
   "execution_count": 8,
   "metadata": {
    "ExecuteTime": {
     "end_time": "2024-03-27T20:11:59.214455065Z",
     "start_time": "2024-03-27T20:11:59.170869616Z"
    }
   },
   "outputs": [],
   "source": [
    "# from notebookinit import *\n",
    "import os, json"
   ]
  },
  {
   "cell_type": "code",
   "execution_count": 9,
   "metadata": {
    "ExecuteTime": {
     "end_time": "2024-03-27T20:12:00.959870617Z",
     "start_time": "2024-03-27T20:12:00.916323983Z"
    }
   },
   "outputs": [
    {
     "data": {
      "text/plain": "'/home/mib07150/git/private/gyals/config.json'"
     },
     "execution_count": 9,
     "metadata": {},
     "output_type": "execute_result"
    }
   ],
   "source": [
    "config_path = os.path.normpath(os.path. os.path.join(os.getcwd(), '..', '..', '..',  'config.json'))\n",
    "config_path"
   ]
  },
  {
   "cell_type": "code",
   "execution_count": 10,
   "metadata": {
    "ExecuteTime": {
     "end_time": "2024-03-27T20:12:02.246933917Z",
     "start_time": "2024-03-27T20:12:01.964211047Z"
    }
   },
   "outputs": [
    {
     "name": "stdout",
     "output_type": "stream",
     "text": [
      "/home/mib07150/git/private/gyals/notebook/dev/archive\r\n"
     ]
    }
   ],
   "source": [
    "!pwd"
   ]
  },
  {
   "cell_type": "code",
   "execution_count": 12,
   "metadata": {
    "ExecuteTime": {
     "end_time": "2024-03-27T20:12:05.719564217Z",
     "start_time": "2024-03-27T20:12:05.669781025Z"
    }
   },
   "outputs": [
    {
     "name": "stdout",
     "output_type": "stream",
     "text": [
      "got 1 streams\n",
      "stream 0:\n",
      "           mqtt-broker-address -> 192.168.1.2\n",
      "              mqtt-broker-port -> 1883\n",
      "                          user -> aaa\n",
      "                      password -> ***\n",
      "                         topic -> #\n",
      "                        prefix -> aaa\n",
      "                        suffix -> \n",
      "    file-rotation-time-seconds -> 600\n"
     ]
    }
   ],
   "source": [
    "config = json.loads(open(config_path).read())\n",
    "stream_count = len(config['streams'])\n",
    "print(f'got {stream_count} streams')\n",
    "for stream in range(stream_count):\n",
    "    print(f'stream {stream}:')\n",
    "    for key in config[\"streams\"][stream].keys():\n",
    "        if key == 'password':\n",
    "            print(f'{key:>30} -> {\"*\" * len(config[\"streams\"][stream][key])}')\n",
    "        else:\n",
    "            print(f'{key:>30} -> {config[\"streams\"][stream][key]}')\n",
    "\n",
    "data_path = os.path.normpath(os.path.join(os.getcwd(), '..', '..', config['data-folder']))\n",
    "# print(f'data path: {data_path}')\n",
    "os.makedirs(data_path, exist_ok=True)"
   ]
  },
  {
   "cell_type": "code",
   "execution_count": 6,
   "metadata": {},
   "outputs": [
    {
     "name": "stdout",
     "output_type": "stream",
     "text": [
      "creating /home/mib07150/git/STL/george-yals/datalog/all\n"
     ]
    }
   ],
   "source": [
    "# for each stream, create a folder with that prefix. If there is no prefix, use stream number\n",
    "for stream in range(stream_count):\n",
    "    folder_prefix = config['streams'][stream]['prefix']\n",
    "    if folder_prefix == '':\n",
    "        folder_prefix = str(stream)\n",
    "    folder_suffix = config['streams'][stream]['suffix']\n",
    "    folder_name = folder_prefix + folder_suffix\n",
    "    stream_path = os.path.join(data_path, folder_name)\n",
    "    print(f'creating {stream_path}')\n",
    "    os.makedirs(stream_path, exist_ok=True)"
   ]
  },
  {
   "cell_type": "code",
   "execution_count": 7,
   "metadata": {},
   "outputs": [
    {
     "name": "stdout",
     "output_type": "stream",
     "text": [
      "subscribing client 0 to #\n",
      "connected to mqtt broker with result code 0 and flags {'session present': 0}\n"
     ]
    }
   ],
   "source": [
    "from paho.mqtt import client as mqtt\n",
    "import sqlite3\n",
    "import pandas\n",
    "\n",
    "global SharedState\n",
    "SharedState = {}\n",
    "SharedState['totalMessageCount'] = 0\n",
    "SharedState['streams'] = []\n",
    "messageCount=0\n",
    "def make_onmessage_callback(stream_idx, intendedTopic, stream_path=\"\", logRotationTime=600):\n",
    "\n",
    "    os.makedirs(stream_path, exist_ok=True)\n",
    "    global SharedState    \n",
    "\n",
    "    SharedState['streams'][stream_idx] = dict(\n",
    "        messageCount=0, \n",
    "        intendedTopic=intendedTopic, \n",
    "        lastMessage=None, \n",
    "        sqlite_cursor=None, \n",
    "        sqlite_connection=None, \n",
    "        next_rotation_time=0,\n",
    "        )\n",
    "\n",
    "    def curried_on_message(client, userdata, msg):\n",
    "        global SharedState\n",
    "\n",
    "        def renew_database_link():\n",
    "            file_name = f'{int(time.time())}.sqlite'\n",
    "            sqlite_db_path = os.path.join(stream_path, file_name) # future: make this incremental by start timestamp\n",
    "            print(f'{stream_idx=} creating new file {sqlite_db_path}')                          \n",
    "            sqlite_connection = sqlite3.connect(sqlite_db_path)\n",
    "            sqlite_cursor = sqlite_connection.cursor()\n",
    "            sqlite_cursor.execute('CREATE TABLE IF NOT EXISTS data (payload TEXT, reception_timestamp INTEGER)')\n",
    "            sqlite_connection.commit()\n",
    "            SharedState['streams'][stream_idx]['sqlite_cursor'] = sqlite_cursor\n",
    "            SharedState['streams'][stream_idx]['sqlite_connection'] = sqlite_connection\n",
    "            next_rotation_time = time.time() + logRotationTime\n",
    "            SharedState['streams'][stream_idx]['next_rotation_time'] = next_rotation_time\n",
    "            return sqlite_cursor, sqlite_connection\n",
    "\n",
    "\n",
    "        if SharedState['streams'][stream_idx]['sqlite_cursor'] is None:\n",
    "            # create the cursor and connection. this is because the object must be created and used in the same thread.\n",
    "            sqlite_cursor, sqlite_connection = renew_database_link()                          \n",
    "        else:\n",
    "            # load the cursor and connection from the shared state. this is because the object must be created and used in the same thread.\n",
    "            sqlite_cursor = SharedState['streams'][stream_idx]['sqlite_cursor']\n",
    "            sqlite_connection = SharedState['streams'][stream_idx]['sqlite_connection']\n",
    "            # check for rotation time\n",
    "            next_rotation_time = SharedState['streams'][stream_idx]['next_rotation_time']\n",
    "            if time.time() > next_rotation_time:\n",
    "                # rotate the log\n",
    "                sqlite_connection.commit()\n",
    "                sqlite_cursor.close()\n",
    "                sqlite_connection.close()\n",
    "                SharedState['streams'][stream_idx]['sqlite_cursor'] = None\n",
    "                SharedState['streams'][stream_idx]['sqlite_connection'] = None\n",
    "                # re-open the log with next file name\n",
    "                sqlite_cursor, sqlite_connection = renew_database_link()\n",
    "\n",
    "\n",
    "\n",
    "        # note to the purist: I am aware of the GIL. I am not worried about it here: \n",
    "        # on my machine, GIL with modification of global state, switches approx. 20e6 times per second, so I am not worried about the performance impact of this code\n",
    "        SharedState['totalMessageCount'] += 1\n",
    "        SharedState['streams'][stream_idx]['messageCount'] +=1\n",
    "        topic = msg.topic\n",
    "        payload = msg.payload.decode('utf-8')\n",
    "        SharedState['streams'][stream_idx]['lastMessage'] = payload\n",
    "        timestamp_unix = int(1e6*pandas.Timestamp.now().timestamp()) # microseconds since epoch\n",
    "        SharedState['streams'][stream_idx]['lastRxTimestamp_unix'] = timestamp_unix\n",
    "        # # use the cursor to write to the database\n",
    "        if sqlite_cursor is not None:\n",
    "            sqlite_cursor.execute('INSERT INTO data VALUES (?, ?)', (payload, timestamp_unix))\n",
    "            # sqlite_connection.commit()  # no need to commit as this is done in the rotation code\n",
    "\n",
    "    return curried_on_message\n",
    "\n",
    "def on_connect(client, userdata, flags, rc):\n",
    "    print(f'connected to mqtt broker with result code {rc} and flags {flags}')\n",
    "\n",
    "# for each stream, create mqtt client and subscribe to topic\n",
    "stream_clients = []\n",
    "SharedState['streams'] = []\n",
    "\n",
    "for stream_idx in range(stream_count):\n",
    "    stream_config = config['streams'][stream_idx]\n",
    "\n",
    "\n",
    "    # prepare path to save the data to:\n",
    "    folder_prefix = config['streams'][stream]['prefix']\n",
    "    if folder_prefix == '':\n",
    "        folder_prefix = str(stream)\n",
    "    folder_suffix = config['streams'][stream]['suffix']\n",
    "    folder_name = folder_prefix + folder_suffix\n",
    "    stream_path = os.path.join(data_path, folder_name)\n",
    "\n",
    "    # create the mqtt client and pass on the curried on_message function    \n",
    "    \n",
    "    mqtt_client = mqtt.Client()\n",
    "    mqtt_client.on_connect = on_connect    \n",
    "    SharedState['streams'].append(dict())\n",
    "    \n",
    "    # i think this pattern is called \"making a closure\", that is, a function that returns a function that closes over some variables provided from the outer function\n",
    "    this_on_message = make_onmessage_callback(stream_idx, intendedTopic=stream_config['topic'], stream_path=stream_path, logRotationTime=stream_config['file-rotation-time-seconds'])\n",
    "    mqtt_client.on_message = this_on_message\n",
    "\n",
    "    mqtt_client.username_pw_set(stream_config['user'], stream_config['password'])\n",
    "    mqtt_client.connect(stream_config['mqtt-broker-address'], stream_config['mqtt-broker-port'], 60)\n",
    "    print(f'subscribing client {stream_idx} to {stream_config[\"topic\"]}')\n",
    "    mqtt_client.subscribe(stream_config[\"topic\"])\n",
    "\n",
    "    mqtt_client.loop_start()\n",
    "    stream_clients.append(mqtt_client)\n",
    "    \n"
   ]
  },
  {
   "cell_type": "code",
   "execution_count": 8,
   "metadata": {},
   "outputs": [
    {
     "name": "stdout",
     "output_type": "stream",
     "text": [
      "stream_idx=0 creating new file /home/mib07150/git/STL/george-yals/datalog/all/1679590570.sqlite\n"
     ]
    },
    {
     "name": "stdout",
     "output_type": "stream",
     "text": [
      "time.time()=1679590580.6382027 and next_rotation_time=1679590580.6376586 -> rotating log for stream 0\n",
      "stream_idx=0 creating new file /home/mib07150/git/STL/george-yals/datalog/all/1679590580.sqlite\n",
      "time.time()=1679590590.6628237 and next_rotation_time=1679590590.6625922 -> rotating log for stream 0\n",
      "stream_idx=0 creating new file /home/mib07150/git/STL/george-yals/datalog/all/1679590590.sqlite\n",
      "time.time()=1679590600.7069607 and next_rotation_time=1679590600.687008 -> rotating log for stream 0\n",
      "stream_idx=0 creating new file /home/mib07150/git/STL/george-yals/datalog/all/1679590600.sqlite\n"
     ]
    }
   ],
   "source": [
    "time.sleep(30)\n",
    "stream_clients[0].loop_stop()\n"
   ]
  },
  {
   "cell_type": "code",
   "execution_count": 9,
   "metadata": {},
   "outputs": [
    {
     "name": "stdout",
     "output_type": "stream",
     "text": [
      "[{'messageCount': 9329, 'intendedTopic': '#', 'lastMessage': '{\\n\\t\"_type\" : \"squirrel::Data\",\\n\\t\"data\" : \\n\\t{\\n\\t\\t\"backscatterSignal\" : 2965.0,\\n\\t\\t\"integration_time\" : 0.0099942395463585854,\\n\\t\\t\"photonCount\" : 22799.0,\\n\\t\\t\"range\" : 5.707371711730957,\\n\\t\\t\"range_width\" : 1.9986163377761841,\\n\\t\\t\"servo_position\" : \\n\\t\\t{\\n\\t\\t\\t\"beam\" : \\n\\t\\t\\t[\\n\\t\\t\\t\\t0.13010817640277336,\\n\\t\\t\\t\\t-0.089549283009337885\\n\\t\\t\\t],\\n\\t\\t\\t\"p\" : \\n\\t\\t\\t[\\n\\t\\t\\t\\t9.171137809753418,\\n\\t\\t\\t\\t1.4592573642730713\\n\\t\\t\\t],\\n\\t\\t\\t\"units\" : \"rad\",\\n\\t\\t\\t\"v\" : \\n\\t\\t\\t[\\n\\t\\t\\t\\t2.3356640338897705,\\n\\t\\t\\t\\t0.54721271991729736\\n\\t\\t\\t]\\n\\t\\t},\\n\\t\\t\"signal\" : 11693.0,\\n\\t\\t\"source\" : \"returnPulse\",\\n\\t\\t\"spectrum_down\" : \\n\\t\\t[\\n\\t\\t\\t327.91152954101562,\\n\\t\\t\\t363.82644653320312,\\n\\t\\t\\t462.25042724609375,\\n\\t\\t\\t382.44924926757812,\\n\\t\\t\\t292.3037109375,\\n\\t\\t\\t362.73358154296875,\\n\\t\\t\\t376.96334838867188,\\n\\t\\t\\t381.35147094726562,\\n\\t\\t\\t328.99530029296875,\\n\\t\\t\\t363.82644653320312,\\n\\t\\t\\t358.36489868164062,\\n\\t\\t\\t363.82644653320312,\\n\\t\\t\\t379.1568603515625,\\n\\t\\t\\t326.8280029296875,\\n\\t\\t\\t275.148681640625,\\n\\t\\t\\t346.37454223632812\\n\\t\\t],\\n\\t\\t\"spectrum_units\" : \"count\",\\n\\t\\t\"spectrum_up\" : \\n\\t\\t[\\n\\t\\t\\t296.60357666015625,\\n\\t\\t\\t314.92788696289062,\\n\\t\\t\\t361.6409912109375,\\n\\t\\t\\t500.46487426757812,\\n\\t\\t\\t463.36947631835938,\\n\\t\\t\\t308.45126342773438,\\n\\t\\t\\t460.01321411132812,\\n\\t\\t\\t423.269287109375,\\n\\t\\t\\t416.62283325195312,\\n\\t\\t\\t472.33255004882812,\\n\\t\\t\\t401.1551513671875,\\n\\t\\t\\t514.03485107421875,\\n\\t\\t\\t474.57626342773438,\\n\\t\\t\\t364.91961669921875,\\n\\t\\t\\t375.86703491210938,\\n\\t\\t\\t426.59646606445312\\n\\t\\t],\\n\\t\\t\"state\" : \"valid\",\\n\\t\\t\"time\" : \"2023-03-23T16:56:40.688325Z\",\\n\\t\\t\"totalSignal\" : 18179.0\\n\\t},\\n\\t\"time\" : \"2023-03-23T16:56:40.688325Z\",\\n\\t\"topic\" : \"CH4/CalibrationSpectrum\"\\n}\\n', 'sqlite_cursor': <sqlite3.Cursor object at 0x7f79f0f746c0>, 'sqlite_connection': <sqlite3.Connection object at 0x7f79f103c310>, 'next_rotation_time': 1679590610.7270596, 'lastRxTimestamp_unix': 1679590600727082}]\n",
      "9329\n"
     ]
    }
   ],
   "source": [
    "print(SharedState['streams'])\n",
    "print(SharedState['totalMessageCount'])"
   ]
  },
  {
   "cell_type": "code",
   "execution_count": 10,
   "metadata": {},
   "outputs": [],
   "source": [
    "# stream_clients[0].loop_stop()\n"
   ]
  },
  {
   "cell_type": "code",
   "execution_count": 11,
   "metadata": {},
   "outputs": [
    {
     "data": {
      "text/plain": [
       "1679590610.7270596"
      ]
     },
     "execution_count": 11,
     "metadata": {},
     "output_type": "execute_result"
    }
   ],
   "source": [
    "SharedState['streams'][stream_idx]['next_rotation_time']"
   ]
  },
  {
   "cell_type": "code",
   "execution_count": 12,
   "metadata": {},
   "outputs": [
    {
     "data": {
      "text/plain": [
       "1679590601.2566917"
      ]
     },
     "execution_count": 12,
     "metadata": {},
     "output_type": "execute_result"
    }
   ],
   "source": [
    "time.time()"
   ]
  },
  {
   "cell_type": "code",
   "execution_count": 13,
   "metadata": {},
   "outputs": [],
   "source": [
    "# # option 1: use sqlite to store the data\n",
    "\n",
    "# sqlite_db_path = os.path.join(data_path, 'data.sqlite')\n",
    "# conn = sqlite3.connect(sqlite_db_path)\n",
    "# c = conn.cursor()\n",
    "# c.execute('CREATE TABLE IF NOT EXISTS data (payload TEXT, reception_timestamp INTEGER)')\n",
    "# conn.commit()\n",
    "# # to insert data, use\n",
    "# # c.execute('INSERT INTO data VALUES (?, ?)', (payload, reception_timestamp))\n",
    "# # conn.commit()\n",
    "\n",
    "# # option 2: use pandas to store the data\n",
    "# import pandas as pd\n",
    "# data = pd.DataFrame(columns=['payload', 'reception_timestamp'])\n",
    "\n",
    "\n",
    "\n"
   ]
  },
  {
   "cell_type": "code",
   "execution_count": 14,
   "metadata": {},
   "outputs": [
    {
     "name": "stdout",
     "output_type": "stream",
     "text": [
      "1679590600727082\n"
     ]
    }
   ],
   "source": [
    "print(SharedState['streams'][0]['lastRxTimestamp_unix'])"
   ]
  },
  {
   "cell_type": "code",
   "execution_count": 15,
   "metadata": {},
   "outputs": [],
   "source": [
    "# benchmark the GIL with write to a global state.\n",
    "if 1==0:\n",
    "    import time\n",
    "    import threading\n",
    "\n",
    "    thread_count = 8\n",
    "    loop_count = 20000000\n",
    "    instructions_per_loop = 3\n",
    "\n",
    "    # define a function that does some work\n",
    "    global j\n",
    "    j = 0 \n",
    "    def do_work():\n",
    "        global j\n",
    "        for i in range(loop_count):\n",
    "            j+=i\n",
    "            j*=i\n",
    "            j%=(i+1)\n",
    "\n",
    "        print(f'j={j}')\n",
    "\n",
    "    # define a function that creates and starts 3 threads\n",
    "    def benchmark():\n",
    "        threads = []\n",
    "        for i in range(thread_count):\n",
    "            t = threading.Thread(target=do_work)\n",
    "            threads.append(t)\n",
    "            t.start()\n",
    "\n",
    "        # wait for all threads to finish\n",
    "        for t in threads:\n",
    "            t.join()\n",
    "\n",
    "    # measure the time it takes to run the benchmark function\n",
    "    start_time = time.monotonic()\n",
    "    benchmark()\n",
    "    end_time = time.monotonic()\n",
    "\n",
    "    # calculate the maximum command throughput across all threads\n",
    "    total_commands = thread_count * loop_count * instructions_per_loop\n",
    "    elapsed_time = end_time - start_time\n",
    "    throughput = total_commands / elapsed_time\n",
    "\n",
    "    print(f\"Elapsed time: {elapsed_time:.3f} seconds\")\n",
    "    print(f\"Throughput: {throughput:.3f} commands per second\")"
   ]
  }
 ],
 "metadata": {
  "kernelspec": {
   "display_name": "yals",
   "language": "python",
   "name": "python3"
  },
  "language_info": {
   "codemirror_mode": {
    "name": "ipython",
    "version": 3
   },
   "file_extension": ".py",
   "mimetype": "text/x-python",
   "name": "python",
   "nbconvert_exporter": "python",
   "pygments_lexer": "ipython3",
   "version": "3.11.0"
  },
  "orig_nbformat": 4
 },
 "nbformat": 4,
 "nbformat_minor": 2
}
