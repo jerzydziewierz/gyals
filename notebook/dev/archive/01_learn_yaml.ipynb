{
 "cells": [
  {
   "cell_type": "code",
   "execution_count": 2,
   "id": "initial_id",
   "metadata": {
    "collapsed": true,
    "ExecuteTime": {
     "end_time": "2024-03-27T19:41:57.483652582Z",
     "start_time": "2024-03-27T19:41:57.471374945Z"
    }
   },
   "outputs": [
    {
     "data": {
      "text/plain": "{'list': ['item1', 'item2', 'item3'],\n 'dict': {'key1': 'value1', 'key2': 'value2', 'key3': 'value3'},\n 'list_of_dict': [{'key1': 'value1', 'key2': 'value2'},\n  {'key1': 'value1', 'key2': 'value2'},\n  {'key1': 'value1', 'key2': 'value2'}]}"
     },
     "execution_count": 2,
     "metadata": {},
     "output_type": "execute_result"
    }
   ],
   "source": [
    "import yaml\n",
    "\n",
    "with open('example.yaml') as f:\n",
    "    config = yaml.load(f, Loader=yaml.FullLoader)\n",
    "    \n",
    "config\n"
   ]
  },
  {
   "cell_type": "code",
   "outputs": [],
   "source": [
    "txt = \"\"\"\n",
    "z &a1 baz : !!str 123 \n",
    "\"\"\""
   ],
   "metadata": {
    "collapsed": false,
    "ExecuteTime": {
     "end_time": "2024-03-27T19:43:09.391366023Z",
     "start_time": "2024-03-27T19:43:09.381388628Z"
    }
   },
   "id": "f9692a87fb7f9fc1",
   "execution_count": 7
  },
  {
   "cell_type": "code",
   "outputs": [
    {
     "data": {
      "text/plain": "[StreamStartEvent(),\n DocumentStartEvent(),\n MappingStartEvent(anchor=None, tag=None, implicit=True),\n ScalarEvent(anchor=None, tag=None, implicit=(True, False), value='z &a1 baz'),\n ScalarEvent(anchor=None, tag='tag:yaml.org,2002:str', implicit=(False, False), value='123'),\n MappingEndEvent(),\n DocumentEndEvent(),\n StreamEndEvent()]"
     },
     "execution_count": 10,
     "metadata": {},
     "output_type": "execute_result"
    }
   ],
   "source": [
    "yaml.load(txt, Loader=yaml.FullLoader)\n",
    "list(yaml.parse(txt, Loader=yaml.FullLoader))\n"
   ],
   "metadata": {
    "collapsed": false,
    "ExecuteTime": {
     "end_time": "2024-03-27T19:43:39.852216660Z",
     "start_time": "2024-03-27T19:43:39.850250357Z"
    }
   },
   "id": "1f97e30e6b157058",
   "execution_count": 10
  },
  {
   "cell_type": "code",
   "outputs": [
    {
     "name": "stdout",
     "output_type": "stream",
     "text": [
      "dict:\n",
      "  key1: value1\n",
      "  key2: value2\n",
      "  key3: value3\n",
      "list:\n",
      "- item1\n",
      "- item2\n",
      "- item3\n",
      "list_of_dict:\n",
      "- key1: value1\n",
      "  key2: value2\n",
      "- key1: value1\n",
      "  key2: value2\n",
      "- key1: value1\n",
      "  key2: value2\n"
     ]
    }
   ],
   "source": [
    "txt = yaml.dump(config)\n",
    "print(txt)"
   ],
   "metadata": {
    "collapsed": false,
    "ExecuteTime": {
     "end_time": "2024-03-27T19:42:32.347840729Z",
     "start_time": "2024-03-27T19:42:32.341462955Z"
    }
   },
   "id": "d6e8b6905052d0b8",
   "execution_count": 6
  },
  {
   "cell_type": "code",
   "outputs": [
    {
     "name": "stdout",
     "output_type": "stream",
     "text": [
      "!!python/object/apply:numpy.core.multiarray._reconstruct\n",
      "args:\n",
      "- !!python/name:numpy.ndarray\n",
      "- !!python/tuple\n",
      "  - 0\n",
      "- !!binary |\n",
      "  Yg==\n",
      "state: !!python/tuple\n",
      "- 1\n",
      "- !!python/tuple\n",
      "  - 3\n",
      "- !!python/object/apply:numpy.dtype\n",
      "  args:\n",
      "  - f4\n",
      "  - false\n",
      "  - true\n",
      "  state: !!python/tuple\n",
      "  - 3\n",
      "  - <\n",
      "  - null\n",
      "  - null\n",
      "  - null\n",
      "  - -1\n",
      "  - -1\n",
      "  - 0\n",
      "- false\n",
      "- !!binary |\n",
      "  AACAPwAAAEAAAEBA\n"
     ]
    }
   ],
   "source": [
    "import numpy\n",
    "\n",
    "c = numpy.array([1,2,3], dtype=numpy.float32)\n",
    "txt = yaml.dump(c, Dumper=yaml.CDumper)\n",
    "print(txt)"
   ],
   "metadata": {
    "collapsed": false,
    "ExecuteTime": {
     "end_time": "2024-03-27T19:55:22.040476225Z",
     "start_time": "2024-03-27T19:55:21.996468628Z"
    }
   },
   "id": "b59cfa2ece74e41a",
   "execution_count": 33
  },
  {
   "cell_type": "code",
   "outputs": [],
   "source": [
    "\n",
    "y = yaml.load(txt, Loader=yaml.CLoader)\n"
   ],
   "metadata": {
    "collapsed": false,
    "ExecuteTime": {
     "end_time": "2024-03-27T19:55:33.613483447Z",
     "start_time": "2024-03-27T19:55:33.599008159Z"
    }
   },
   "id": "7906b7d6ec8b7caa",
   "execution_count": 36
  },
  {
   "cell_type": "code",
   "outputs": [
    {
     "name": "stdout",
     "output_type": "stream",
     "text": [
      "!!python/name:__main__.Zappa ''\n"
     ]
    }
   ],
   "source": [
    "class Zappa:\n",
    "    def __init__(self, x):\n",
    "        self.x = x\n",
    "\n",
    "    def __repr__(self):\n",
    "        return f'Zappa({self.x})'\n",
    "\n",
    "    def __str__(self):\n",
    "        return f'Zappa({self.x})'\n",
    "\n",
    "    def __call__(self, y=0):\n",
    "        return self.x+y\n",
    "\n",
    "def function3():\n",
    "    print('function3 is 4')\n",
    "    return 4\n",
    "\n",
    "\n",
    "z = Zappa(3)\n",
    "\n",
    "txt = yaml.dump(Zappa, Dumper=yaml.Dumper)\n",
    "print(txt)"
   ],
   "metadata": {
    "collapsed": false,
    "ExecuteTime": {
     "end_time": "2024-03-27T19:53:15.698364164Z",
     "start_time": "2024-03-27T19:53:15.692439567Z"
    }
   },
   "id": "96d71a52fab1d8c6",
   "execution_count": 27
  },
  {
   "cell_type": "code",
   "outputs": [
    {
     "name": "stdout",
     "output_type": "stream",
     "text": [
      "3\n"
     ]
    }
   ],
   "source": [
    "print(z())"
   ],
   "metadata": {
    "collapsed": false,
    "ExecuteTime": {
     "end_time": "2024-03-27T19:52:45.473045372Z",
     "start_time": "2024-03-27T19:52:45.464628776Z"
    }
   },
   "id": "a39fe51a7591fa15",
   "execution_count": 26
  }
 ],
 "metadata": {
  "kernelspec": {
   "display_name": "Python 3",
   "language": "python",
   "name": "python3"
  },
  "language_info": {
   "codemirror_mode": {
    "name": "ipython",
    "version": 2
   },
   "file_extension": ".py",
   "mimetype": "text/x-python",
   "name": "python",
   "nbconvert_exporter": "python",
   "pygments_lexer": "ipython2",
   "version": "2.7.6"
  }
 },
 "nbformat": 4,
 "nbformat_minor": 5
}
